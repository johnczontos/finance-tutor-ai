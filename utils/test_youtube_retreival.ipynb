{
 "cells": [
  {
   "cell_type": "code",
   "execution_count": 1,
   "metadata": {},
   "outputs": [
    {
     "name": "stderr",
     "output_type": "stream",
     "text": [
      "/Users/jcz/Projects/FinanceTutor/finance-tutor-ai/env/lib/python3.11/site-packages/tqdm/auto.py:21: TqdmWarning: IProgress not found. Please update jupyter and ipywidgets. See https://ipywidgets.readthedocs.io/en/stable/user_install.html\n",
      "  from .autonotebook import tqdm as notebook_tqdm\n"
     ]
    },
    {
     "name": "stdout",
     "output_type": "stream",
     "text": [
      "\n",
      "Result 1:\n",
      "Chapter 7:\n",
      " Time Value of Money Introduction Chapter 7 introduces the concept of the \n",
      "time value of money  or TVM, and its significance in \n",
      "financial decision-making.  The time value of money refers to the idea that a dollar received a today is worth more than \n",
      "a dollar received in the future. This  ...\n",
      "Source: https://youtu.be/Qz-kC_L0JR8?t=0\n",
      "Title: TL;DR 🔊 Finance: Episode 7, Time Value of Money\n",
      "\n",
      "Result 2:\n",
      "all right so in this video we're going to talk through chapter seven the time value of money part one single payment value so given a choice between receiving a dollar today and saing a dollar a year from now most people would prefer the dollar today we recognize intuitively that a dollar a year fro ...\n",
      "Source: https://youtu.be/uMiXMatYXew?t=3\n",
      "Title: Openstax Finance Ch 07 Time Value of Money I\n",
      "\n",
      "Result 3:\n",
      "Chapter 9:\n",
      "Time Value of Money,\n",
      "Unequal Multiple Payment Values Introduction Chapter 9 discusses the concept\n",
      "of the time value of money and its application in analyzing cash flows. It explores the calculation of future value\n",
      "and present value of mixed streams, where the amounts and timing of payment ...\n",
      "Source: https://youtu.be/WBlEtokQ9sw?t=0\n",
      "Title: TL;DR 🔊 Finance: Episode 9, Multiple Unequal Payments and the Time Value of Money\n"
     ]
    }
   ],
   "source": [
    "from langchain_core.documents import Document\n",
    "from langchain_openai import OpenAIEmbeddings\n",
    "from langchain_pinecone import PineconeVectorStore\n",
    "from dotenv import load_dotenv\n",
    "import os\n",
    "\n",
    "load_dotenv()\n",
    "\n",
    "# Reconnect to vectorstore\n",
    "embeddings = OpenAIEmbeddings(api_key=os.getenv(\"OPENAI_API_KEY\"))\n",
    "vectorstore = PineconeVectorStore(index_name=\"youtube-index\", embedding=embeddings)\n",
    "\n",
    "query = \"What is the time value of money?\"\n",
    "results = vectorstore.similarity_search(query, k=3)\n",
    "\n",
    "for i, doc in enumerate(results):\n",
    "    print(f\"\\nResult {i+1}:\")\n",
    "    print(doc.page_content[:300], \"...\")\n",
    "    print(\"Source:\", doc.metadata.get(\"url\"))\n",
    "    print(\"Title:\", doc.metadata.get(\"heading\"))"
   ]
  },
  {
   "cell_type": "code",
   "execution_count": null,
   "metadata": {},
   "outputs": [],
   "source": []
  }
 ],
 "metadata": {
  "language_info": {
   "name": "python"
  }
 },
 "nbformat": 4,
 "nbformat_minor": 2
}
